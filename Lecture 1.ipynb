{
 "cells": [
  {
   "cell_type": "markdown",
   "metadata": {},
   "source": [
    "# Contents\n",
    "## 1. What is value\n",
    "## 2. print () function\n",
    "## 3. type () function\n",
    "## 4. Variable\n",
    "## 5. Variable names and keywords\n",
    "## 6. Statements\n",
    "## 7. Operators and operands\n",
    "## 8. Order of operations\n",
    "## 9. String operations\n",
    "## 10. Asking the user for input\n",
    "## 11. Type Casting\n",
    "## 12. Comments"
   ]
  },
  {
   "cell_type": "markdown",
   "metadata": {},
   "source": [
    "# 1. Value"
   ]
  },
  {
   "cell_type": "markdown",
   "metadata": {},
   "source": [
    "### A value is one of the basic things a program works with, like a letter or a number.\n",
    "The values could be 1, 2.5, and 'Hello, World!'.\n",
    "\n",
    "These values belong to different types: 1 is an integer, 2.5 is float and \"Hello World\" is a string"
   ]
  },
  {
   "cell_type": "markdown",
   "metadata": {},
   "source": [
    "# 2. print() function"
   ]
  },
  {
   "cell_type": "markdown",
   "metadata": {},
   "source": [
    "We can print these values using print () function"
   ]
  },
  {
   "cell_type": "code",
   "execution_count": 1,
   "metadata": {},
   "outputs": [
    {
     "name": "stdout",
     "output_type": "stream",
     "text": [
      "1\n"
     ]
    }
   ],
   "source": [
    "print (1)"
   ]
  },
  {
   "cell_type": "code",
   "execution_count": 2,
   "metadata": {},
   "outputs": [
    {
     "name": "stdout",
     "output_type": "stream",
     "text": [
      "2.5\n"
     ]
    }
   ],
   "source": [
    "print(2.5)"
   ]
  },
  {
   "cell_type": "code",
   "execution_count": 3,
   "metadata": {},
   "outputs": [
    {
     "name": "stdout",
     "output_type": "stream",
     "text": [
      "hello world\n"
     ]
    }
   ],
   "source": [
    "print (\"hello world\")"
   ]
  },
  {
   "cell_type": "code",
   "execution_count": 4,
   "metadata": {},
   "outputs": [
    {
     "name": "stdout",
     "output_type": "stream",
     "text": [
      "hello world\n"
     ]
    }
   ],
   "source": [
    "print ('hello world')"
   ]
  },
  {
   "cell_type": "code",
   "execution_count": 1,
   "metadata": {},
   "outputs": [
    {
     "name": "stdout",
     "output_type": "stream",
     "text": [
      "10 20 30\n"
     ]
    }
   ],
   "source": [
    "# print two or more values using single statement\n",
    "print(10,20,30)\n"
   ]
  },
  {
   "cell_type": "code",
   "execution_count": 4,
   "metadata": {},
   "outputs": [
    {
     "name": "stdout",
     "output_type": "stream",
     "text": [
      "My country is Pakistan\n"
     ]
    }
   ],
   "source": [
    "# print the name of your country\n",
    "print('My country is Pakistan')"
   ]
  },
  {
   "cell_type": "code",
   "execution_count": 5,
   "metadata": {},
   "outputs": [
    {
     "name": "stdout",
     "output_type": "stream",
     "text": [
      "My date of birth is: 14-03-2002\n"
     ]
    }
   ],
   "source": [
    "# print your date of birth\n",
    "print('My date of birth is: 14-03-2002')"
   ]
  },
  {
   "cell_type": "code",
   "execution_count": 8,
   "metadata": {},
   "outputs": [
    {
     "name": "stdout",
     "output_type": "stream",
     "text": [
      "My name is Maham, My age is 21 and height is 5'4\n"
     ]
    }
   ],
   "source": [
    "# print your name, age and height using one print statement\n",
    "print(\"My name is Maham, My age is 21 and height is 5'4\")"
   ]
  },
  {
   "cell_type": "markdown",
   "metadata": {},
   "source": [
    "# 3. type() function"
   ]
  },
  {
   "cell_type": "markdown",
   "metadata": {},
   "source": [
    "If you are not sure what type a value has, the interpreter can tell you."
   ]
  },
  {
   "cell_type": "code",
   "execution_count": 12,
   "metadata": {},
   "outputs": [
    {
     "data": {
      "text/plain": [
       "int"
      ]
     },
     "execution_count": 12,
     "metadata": {},
     "output_type": "execute_result"
    }
   ],
   "source": [
    "type(1)"
   ]
  },
  {
   "cell_type": "code",
   "execution_count": 13,
   "metadata": {},
   "outputs": [
    {
     "data": {
      "text/plain": [
       "float"
      ]
     },
     "execution_count": 13,
     "metadata": {},
     "output_type": "execute_result"
    }
   ],
   "source": [
    "type(2.5)"
   ]
  },
  {
   "cell_type": "code",
   "execution_count": 14,
   "metadata": {},
   "outputs": [
    {
     "data": {
      "text/plain": [
       "str"
      ]
     },
     "execution_count": 14,
     "metadata": {},
     "output_type": "execute_result"
    }
   ],
   "source": [
    "type(\"hello world\")"
   ]
  },
  {
   "cell_type": "code",
   "execution_count": 13,
   "metadata": {},
   "outputs": [
    {
     "data": {
      "text/plain": [
       "int"
      ]
     },
     "execution_count": 13,
     "metadata": {},
     "output_type": "execute_result"
    }
   ],
   "source": [
    "# what will be the type of '5'\n",
    "type (5)\n"
   ]
  },
  {
   "cell_type": "code",
   "execution_count": 12,
   "metadata": {},
   "outputs": [
    {
     "data": {
      "text/plain": [
       "float"
      ]
     },
     "execution_count": 12,
     "metadata": {},
     "output_type": "execute_result"
    }
   ],
   "source": [
    "type (9.333333333)"
   ]
  },
  {
   "cell_type": "code",
   "execution_count": 15,
   "metadata": {},
   "outputs": [
    {
     "data": {
      "text/plain": [
       "list"
      ]
     },
     "execution_count": 15,
     "metadata": {},
     "output_type": "execute_result"
    }
   ],
   "source": [
    "#print the type of (), [], {} \n",
    "type ([])"
   ]
  },
  {
   "cell_type": "code",
   "execution_count": 14,
   "metadata": {},
   "outputs": [
    {
     "data": {
      "text/plain": [
       "tuple"
      ]
     },
     "execution_count": 14,
     "metadata": {},
     "output_type": "execute_result"
    }
   ],
   "source": [
    "type (())"
   ]
  },
  {
   "cell_type": "code",
   "execution_count": 16,
   "metadata": {},
   "outputs": [
    {
     "data": {
      "text/plain": [
       "dict"
      ]
     },
     "execution_count": 16,
     "metadata": {},
     "output_type": "execute_result"
    }
   ],
   "source": [
    "type ({})"
   ]
  },
  {
   "cell_type": "code",
   "execution_count": 20,
   "metadata": {},
   "outputs": [
    {
     "data": {
      "text/plain": [
       "range"
      ]
     },
     "execution_count": 20,
     "metadata": {},
     "output_type": "execute_result"
    }
   ],
   "source": [
    "# what is output of type(range(5))\n",
    "type (range(5))"
   ]
  },
  {
   "cell_type": "markdown",
   "metadata": {},
   "source": [
    "# 4. Variable"
   ]
  },
  {
   "cell_type": "markdown",
   "metadata": {},
   "source": [
    "One of the most powerful features of a programming language is the ability to\n",
    "manipulate variables. \n",
    "\n",
    "A variable is a name that refers to a value.\n",
    "\n",
    "Variables names are case sensitive"
   ]
  },
  {
   "cell_type": "code",
   "execution_count": 1,
   "metadata": {},
   "outputs": [],
   "source": [
    "# An assignment statement creates new variables and gives them values:\n",
    "name = \"Ahmed\"\n",
    "age = 20\n",
    "height = 3.5"
   ]
  },
  {
   "cell_type": "markdown",
   "metadata": {},
   "source": [
    "This example makes three assignments, first assign \"Ahmed\" to name variable, second assign 20 to age and 3.5 to height"
   ]
  },
  {
   "cell_type": "code",
   "execution_count": 2,
   "metadata": {},
   "outputs": [
    {
     "name": "stdout",
     "output_type": "stream",
     "text": [
      "Ahmed\n"
     ]
    }
   ],
   "source": [
    "# to print the name you can use print statement\n",
    "print(name)"
   ]
  },
  {
   "cell_type": "code",
   "execution_count": 24,
   "metadata": {},
   "outputs": [
    {
     "name": "stdout",
     "output_type": "stream",
     "text": [
      "20\n",
      "3.5\n"
     ]
    }
   ],
   "source": [
    "# print the values of age and height\n",
    "print(age)\n",
    "print(height)"
   ]
  },
  {
   "cell_type": "code",
   "execution_count": 28,
   "metadata": {},
   "outputs": [
    {
     "name": "stdout",
     "output_type": "stream",
     "text": [
      "Ahmed 20 3.5\n"
     ]
    }
   ],
   "source": [
    "# print all three values using single print statement\n",
    "print (name,  age,  height)"
   ]
  },
  {
   "cell_type": "code",
   "execution_count": 30,
   "metadata": {},
   "outputs": [
    {
     "name": "stdout",
     "output_type": "stream",
     "text": [
      "1 0 0\n",
      "1000000\n"
     ]
    }
   ],
   "source": [
    "# What will happen if you print 1 million using following statement\n",
    "print(1,000,000)\n",
    "# now search out the way to print 1 million and try it out\n",
    "print(1000000)"
   ]
  },
  {
   "cell_type": "code",
   "execution_count": 31,
   "metadata": {},
   "outputs": [
    {
     "name": "stdout",
     "output_type": "stream",
     "text": [
      "70 80 100\n"
     ]
    }
   ],
   "source": [
    "# Store three integers in x,y,z and print them using single print statement.\n",
    "x=70\n",
    "y=80\n",
    "z=100\n",
    "print(x, y, z)"
   ]
  },
  {
   "cell_type": "code",
   "execution_count": 32,
   "metadata": {},
   "outputs": [
    {
     "data": {
      "text/plain": [
       "float"
      ]
     },
     "execution_count": 32,
     "metadata": {},
     "output_type": "execute_result"
    }
   ],
   "source": [
    "# var1 = 121.25\n",
    "# print type of var1\n",
    "var1=121.25\n",
    "type(var1)"
   ]
  },
  {
   "cell_type": "markdown",
   "metadata": {},
   "source": [
    "# 5. Variable names and keywords"
   ]
  },
  {
   "cell_type": "raw",
   "metadata": {},
   "source": [
    "Variable names can be arbitrarily long. \n",
    "They can contain both letters and numbers,but they have to begin with a letter.\n",
    "The underscore character (_) can appear in a name.\n",
    "Variable names can start with an underscore character, but we generally avoid using it unles\n",
    "we are writing library code for others to use."
   ]
  },
  {
   "cell_type": "code",
   "execution_count": 35,
   "metadata": {},
   "outputs": [],
   "source": [
    "#what will happen\n",
    "M47name = 'Pakistan'\n",
    "#name@ = 'Pakistan'\n",
    "#class = 'Pakistan'\n",
    "#myname = 'kamran'\n",
    "first_val = 10\n",
    "#string = 'abc'"
   ]
  },
  {
   "cell_type": "raw",
   "metadata": {},
   "source": [
    "It turns out that class is one of Python’s keywords.\n",
    "The interpreter uses keywords to recognize the structure of the program, and they cannot be used as variable names."
   ]
  },
  {
   "cell_type": "markdown",
   "metadata": {},
   "source": [
    "# 6. Statements"
   ]
  },
  {
   "cell_type": "raw",
   "metadata": {},
   "source": [
    "A statement is a unit of code that the Python interpreter can execute.\n",
    "We have seen two kinds of statements: print and assignment."
   ]
  },
  {
   "cell_type": "markdown",
   "metadata": {},
   "source": [
    "# 7. Operators and operands"
   ]
  },
  {
   "cell_type": "code",
   "execution_count": null,
   "metadata": {
    "collapsed": true
   },
   "outputs": [],
   "source": []
  },
  {
   "cell_type": "raw",
   "metadata": {},
   "source": [
    "Operators are special symbols that represent computations like addition and multiplication.\n",
    "The values the operator is applied to are called operands."
   ]
  },
  {
   "cell_type": "code",
   "execution_count": 41,
   "metadata": {},
   "outputs": [
    {
     "name": "stdout",
     "output_type": "stream",
     "text": [
      "52 \n",
      " 2 \n",
      " 20 \n",
      " 2.0 \n",
      " 25 \n",
      " 3\n"
     ]
    }
   ],
   "source": [
    "# The operators +, -, *, / and ** perform addition, subtraction, multiplication, division,\n",
    "# exponentiation and modulus operator as in the following examples:\n",
    "print(20+32,\"\\n\", 3-1,\"\\n\", 4*5,\"\\n\", 12/6,\"\\n\",  5**2,\"\\n\", 13%5)"
   ]
  },
  {
   "cell_type": "code",
   "execution_count": 42,
   "metadata": {},
   "outputs": [
    {
     "name": "stdout",
     "output_type": "stream",
     "text": [
      "90\n"
     ]
    }
   ],
   "source": [
    "# print 200+323-433\n",
    "print(200+323-433)"
   ]
  },
  {
   "cell_type": "code",
   "execution_count": 43,
   "metadata": {},
   "outputs": [
    {
     "name": "stdout",
     "output_type": "stream",
     "text": [
      "6\n"
     ]
    }
   ],
   "source": [
    "# print (2+1)*(8-6)\n",
    "print((2+1)*(8-6))"
   ]
  },
  {
   "cell_type": "code",
   "execution_count": 44,
   "metadata": {},
   "outputs": [
    {
     "name": "stdout",
     "output_type": "stream",
     "text": [
      "1024\n"
     ]
    }
   ],
   "source": [
    "# print no of bytes in 1KB using exponentiation operator\n",
    "print(2**10)"
   ]
  },
  {
   "cell_type": "code",
   "execution_count": 3,
   "metadata": {},
   "outputs": [
    {
     "name": "stdout",
     "output_type": "stream",
     "text": [
      "216\n"
     ]
    }
   ],
   "source": [
    "# print(2*3**3*4)\n",
    "print ((2*3**3*4))"
   ]
  },
  {
   "cell_type": "markdown",
   "metadata": {},
   "source": [
    "# 8. Expressions"
   ]
  },
  {
   "cell_type": "raw",
   "metadata": {},
   "source": [
    "An expression is a combination of values, variables, and operators."
   ]
  },
  {
   "cell_type": "raw",
   "metadata": {},
   "source": [
    "Assignement: type the following statements in the Python interpreter to see what\n",
    "they do:\n",
    "5\n",
    "x = 5\n",
    "x + 1"
   ]
  },
  {
   "cell_type": "code",
   "execution_count": 47,
   "metadata": {},
   "outputs": [
    {
     "data": {
      "text/plain": [
       "6"
      ]
     },
     "execution_count": 47,
     "metadata": {},
     "output_type": "execute_result"
    }
   ],
   "source": [
    "# execute the following statements and see the output\n",
    "5\n",
    "x = 5\n",
    "x + 1"
   ]
  },
  {
   "cell_type": "code",
   "execution_count": 56,
   "metadata": {},
   "outputs": [
    {
     "name": "stdout",
     "output_type": "stream",
     "text": [
      "12\n"
     ]
    }
   ],
   "source": [
    "# what is output of\n",
    "y=10\n",
    "x= y+2\n",
    "y=10\n",
    "print(x)"
   ]
  },
  {
   "cell_type": "code",
   "execution_count": 61,
   "metadata": {},
   "outputs": [
    {
     "name": "stdout",
     "output_type": "stream",
     "text": [
      "sum is: 103 \n",
      " mul is: 7800\n"
     ]
    }
   ],
   "source": [
    "# Store three integers in x,y,z and print their sum and product.\n",
    "x=5\n",
    "y=78\n",
    "z=20\n",
    "sum=x+y+z\n",
    "mul=x*y*z\n",
    "print(\"sum is:\", sum,\"\\n\", \"mul is:\", mul)"
   ]
  },
  {
   "cell_type": "markdown",
   "metadata": {},
   "source": [
    "# 9. Order of operations"
   ]
  },
  {
   "cell_type": "raw",
   "metadata": {},
   "source": [
    "When more than one operator appears in an expression, the order of evaluation\n",
    "depends on the rules of precedence. \n",
    "For mathematical operators, Python follows mathematical convention. \n",
    "The acronym PEMDAS is a useful way to remember the rules:\n",
    "1. Parentheses\n",
    "2. Exponentiation\n",
    "3. Multiplication and Division\n",
    "4. Addition and Subtraction\n",
    "Operators with the same precedence are evaluated from left to right.\n",
    "    "
   ]
  },
  {
   "cell_type": "code",
   "execution_count": null,
   "metadata": {
    "collapsed": true
   },
   "outputs": [],
   "source": [
    "# write output of the following commands without excuting it\n",
    "# print (2*(3-1))\n",
    "output=4\n",
    "# print ((1+1)**(5-2))\n",
    "output=8\n",
    "# print (2**1+1)\n",
    "output=4\n",
    "# print (3*1**3)\n",
    "output=3"
   ]
  },
  {
   "cell_type": "markdown",
   "metadata": {},
   "source": [
    "# 10. String operations"
   ]
  },
  {
   "cell_type": "code",
   "execution_count": 56,
   "metadata": {},
   "outputs": [
    {
     "name": "stdout",
     "output_type": "stream",
     "text": [
      "30\n"
     ]
    }
   ],
   "source": [
    "first = 10\n",
    "second = 20\n",
    "print (first + second)"
   ]
  },
  {
   "cell_type": "code",
   "execution_count": 57,
   "metadata": {},
   "outputs": [
    {
     "name": "stdout",
     "output_type": "stream",
     "text": [
      "1020\n"
     ]
    }
   ],
   "source": [
    "first = '10'\n",
    "second = '20'\n",
    "print (first + second)"
   ]
  },
  {
   "cell_type": "code",
   "execution_count": 58,
   "metadata": {},
   "outputs": [
    {
     "name": "stdout",
     "output_type": "stream",
     "text": [
      "hellohellohello\n"
     ]
    }
   ],
   "source": [
    "print (\"hello\" * 3 )"
   ]
  },
  {
   "cell_type": "code",
   "execution_count": 64,
   "metadata": {},
   "outputs": [
    {
     "name": "stdout",
     "output_type": "stream",
     "text": [
      "\n",
      "Maham\n",
      "Maham\n",
      "Maham\n",
      "Maham\n",
      "Maham\n",
      "Maham\n",
      "Maham\n",
      "Maham\n",
      "Maham\n",
      "Maham\n"
     ]
    }
   ],
   "source": [
    "# print your name 10 times\n",
    "print(\"\\n\" \"Maham\" * 10)"
   ]
  },
  {
   "cell_type": "code",
   "execution_count": 70,
   "metadata": {},
   "outputs": [
    {
     "name": "stdout",
     "output_type": "stream",
     "text": [
      "JamesJamesJamesJamesJamesJames\n"
     ]
    }
   ],
   "source": [
    "# What is output of var=\"James\"*2*3\n",
    "var= \"James\" *2*3\n",
    "print(var)"
   ]
  },
  {
   "cell_type": "markdown",
   "metadata": {},
   "source": [
    "# 11. Asking the user for input"
   ]
  },
  {
   "cell_type": "code",
   "execution_count": 71,
   "metadata": {},
   "outputs": [
    {
     "name": "stdout",
     "output_type": "stream",
     "text": [
      "please enter name: Maham\n",
      "Maham\n"
     ]
    }
   ],
   "source": [
    "name = input(\"please enter name: \")\n",
    "print (name)"
   ]
  },
  {
   "cell_type": "code",
   "execution_count": 73,
   "metadata": {},
   "outputs": [
    {
     "name": "stdout",
     "output_type": "stream",
     "text": [
      "enter ur age:21\n",
      "212121\n"
     ]
    }
   ],
   "source": [
    "# wirte a program which take age from user and concate it three time\n",
    "age=input(\"enter ur age:\")\n",
    "print (age*3)"
   ]
  },
  {
   "cell_type": "code",
   "execution_count": 75,
   "metadata": {},
   "outputs": [
    {
     "name": "stdout",
     "output_type": "stream",
     "text": [
      "Enter first number:2\n",
      "Enter second number:3\n",
      "mul is: 6.0\n"
     ]
    }
   ],
   "source": [
    "# Write a program to accept two numbers from the user and calculate multiplication.\n",
    "first_number=float(input(\"Enter first number:\"))\n",
    "second_number=float(input(\"Enter second number:\"))\n",
    "mul=first_number*second_number\n",
    "print(\"mul is:\", mul)"
   ]
  },
  {
   "cell_type": "code",
   "execution_count": 5,
   "metadata": {},
   "outputs": [
    {
     "name": "stdout",
     "output_type": "stream",
     "text": [
      "121212\n"
     ]
    }
   ],
   "source": [
    "# modify this code so that it prints 121212 instead of 36\n",
    "age=\"12\"\n",
    "print (age*3)"
   ]
  },
  {
   "cell_type": "markdown",
   "metadata": {},
   "source": [
    "# 12. Type Casting"
   ]
  },
  {
   "cell_type": "code",
   "execution_count": 4,
   "metadata": {},
   "outputs": [
    {
     "name": "stdout",
     "output_type": "stream",
     "text": [
      "10\n"
     ]
    }
   ],
   "source": [
    "a = '10'\n",
    "print (a)"
   ]
  },
  {
   "cell_type": "code",
   "execution_count": 6,
   "metadata": {},
   "outputs": [
    {
     "name": "stdout",
     "output_type": "stream",
     "text": [
      "1010101010\n"
     ]
    }
   ],
   "source": [
    "# print(int(a)*3)\n",
    "a=10\n",
    "print(str(a)*5)"
   ]
  },
  {
   "cell_type": "code",
   "execution_count": 16,
   "metadata": {},
   "outputs": [
    {
     "name": "stdout",
     "output_type": "stream",
     "text": [
      "enter number:5\n",
      "555555555555555\n"
     ]
    }
   ],
   "source": [
    "# take an integer from user and multiply it with 15\n",
    "num=input(\"enter number:\")\n",
    "print(num*15)\n"
   ]
  },
  {
   "cell_type": "code",
   "execution_count": 21,
   "metadata": {},
   "outputs": [],
   "source": [
    "\n",
    "# Find the sum of these 2 variables\n",
    "num_int = 123\n",
    "num_str = \"456\"\n",
    "\n",
    "\n",
    "\n"
   ]
  },
  {
   "cell_type": "markdown",
   "metadata": {},
   "source": [
    "# 13. Comments"
   ]
  },
  {
   "cell_type": "code",
   "execution_count": 33,
   "metadata": {},
   "outputs": [],
   "source": [
    "# here is comments\n",
    "#I have solved all above code"
   ]
  },
  {
   "cell_type": "markdown",
   "metadata": {},
   "source": [
    "# Exercise"
   ]
  },
  {
   "cell_type": "raw",
   "metadata": {},
   "source": [
    "Write a program that uses raw_input to prompt a user for their name and then welcomes them.\n",
    "\n",
    "Enter your name: Chuck\n",
    "Hello Chuck"
   ]
  },
  {
   "cell_type": "code",
   "execution_count": 23,
   "metadata": {},
   "outputs": [
    {
     "name": "stdout",
     "output_type": "stream",
     "text": [
      "Enter your name:Maham\n",
      "Hiiii Maham\n"
     ]
    }
   ],
   "source": [
    "name=input(\"Enter your name:\")\n",
    "print(\"Hiiii\", name)"
   ]
  },
  {
   "cell_type": "raw",
   "metadata": {},
   "source": [
    "Write a program to prompt the user for hours and rate per hour to\n",
    "compute gross pay.\n",
    "Enter Hours: 35\n",
    "Enter Rate: 2.75\n",
    "Pay: 96.25"
   ]
  },
  {
   "cell_type": "code",
   "execution_count": 26,
   "metadata": {},
   "outputs": [
    {
     "name": "stdout",
     "output_type": "stream",
     "text": [
      "enter hours:45\n",
      "enter rate:4.9\n",
      "220.50000000000003\n"
     ]
    }
   ],
   "source": [
    "hours=float(input(\"enter hours:\"))\n",
    "rate=float(input(\"enter rate:\"))\n",
    "gross_pay=hours * rate\n",
    "print(gross_pay)"
   ]
  },
  {
   "cell_type": "raw",
   "metadata": {},
   "source": [
    "Assume that we execute the following assignment statements:\n",
    "width = 17\n",
    "height = 12.0\n",
    "\n",
    "For each of the following expressions, write the value of the expression and the\n",
    "type (of the value of the expression).\n",
    "\n",
    "1. width/2\n",
    "2. width/2.0\n",
    "3. height/3\n",
    "4. 1 + 2 * 5\n",
    "\n",
    "Use the Python interpreter to check your answers."
   ]
  },
  {
   "cell_type": "code",
   "execution_count": 27,
   "metadata": {},
   "outputs": [
    {
     "name": "stdout",
     "output_type": "stream",
     "text": [
      "8.5\n",
      "8.5\n",
      "4.0\n"
     ]
    }
   ],
   "source": [
    "width = 17\n",
    "height = 12.0\n",
    "print(width/2)\n",
    "print(width/2.0)\n",
    "print(height/3)\n"
   ]
  },
  {
   "cell_type": "raw",
   "metadata": {},
   "source": [
    "Write a program which prompts the user for a Celsius temperature,\n",
    "convert the temperature to Fahrenheit and print out the converted temperature."
   ]
  },
  {
   "cell_type": "code",
   "execution_count": 32,
   "metadata": {},
   "outputs": [
    {
     "name": "stdout",
     "output_type": "stream",
     "text": [
      "Enter a temperature in Celsius: 35\n",
      "Temperature in fahrenheit is: 95.0\n"
     ]
    }
   ],
   "source": [
    "celsius = float(input(\"Enter a temperature in Celsius: \"))\n",
    "fahrenheit = (celsius * 9/5) + 32\n",
    "print(\"Temperature in fahrenheit is:\", fahrenheit)"
   ]
  }
 ],
 "metadata": {
  "kernelspec": {
   "display_name": "Python 3 (ipykernel)",
   "language": "python",
   "name": "python3"
  },
  "language_info": {
   "codemirror_mode": {
    "name": "ipython",
    "version": 3
   },
   "file_extension": ".py",
   "mimetype": "text/x-python",
   "name": "python",
   "nbconvert_exporter": "python",
   "pygments_lexer": "ipython3",
   "version": "3.11.5"
  },
  "vscode": {
   "interpreter": {
    "hash": "cf877e899ade189e092f419ed6500768233ef45bf03c1569485e8f982cec4187"
   }
  }
 },
 "nbformat": 4,
 "nbformat_minor": 2
}
