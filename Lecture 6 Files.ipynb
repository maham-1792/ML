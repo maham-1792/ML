{
 "cells": [
  {
   "cell_type": "markdown",
   "metadata": {},
   "source": [
    "# Contents\n",
    "## 1. Opening files\n",
    "## 2. Reading files\n",
    "## 3. Using try, except, and open\n",
    "## 4. Writing files"
   ]
  },
  {
   "cell_type": "markdown",
   "metadata": {},
   "source": [
    "# 1. Opening files"
   ]
  },
  {
   "cell_type": "code",
   "execution_count": 1,
   "metadata": {},
   "outputs": [],
   "source": [
    "fhand = open('test.txt')"
   ]
  },
  {
   "cell_type": "code",
   "execution_count": 2,
   "metadata": {},
   "outputs": [
    {
     "name": "stdout",
     "output_type": "stream",
     "text": [
      "<_io.TextIOWrapper name='test.txt' mode='r' encoding='cp1252'>\n"
     ]
    }
   ],
   "source": [
    "print (fhand)"
   ]
  },
  {
   "cell_type": "code",
   "execution_count": null,
   "metadata": {
    "collapsed": true
   },
   "outputs": [],
   "source": [
    "fhand = open('test1.txt')"
   ]
  },
  {
   "cell_type": "markdown",
   "metadata": {},
   "source": [
    "# 2. Reading files"
   ]
  },
  {
   "cell_type": "code",
   "execution_count": 3,
   "metadata": {},
   "outputs": [
    {
     "name": "stdout",
     "output_type": "stream",
     "text": [
      "Tony Blair became \"obsessed\" with creating of bringing the UK together,\n",
      "\n",
      "their former prime minister the has revealed.\n",
      "\n",
      "Rebel Tories and Labour MPs are planning a bill to stop the UK leaving the EU on 31 October without a deal.\n",
      "\n",
      "\n",
      "\n",
      "Mr Johnson said he did not want an election, but progress with the EU would be \"impossible\" if the MPs win.\n",
      "\n",
      "\n",
      "\n",
      "Jeremy Corbyn said the Labour Party was ready for a general election.\n",
      "\n",
      "\n",
      "\n",
      "But shadow Northern Ireland secretary Tony Lloyd later said Labour would vote against any government plans to hold a general election before the UK is due to leave the EU on 31 October.\n",
      "\n",
      "\n",
      "\n",
      "He said Labour \"will not have Boris Johnson dictate the terms of an election that crashes this country out with no deal\".\n",
      "\n",
      "Line Count: 11\n"
     ]
    }
   ],
   "source": [
    "# counting no of line\n",
    "fhand = open('test.txt')\n",
    "count = 0\n",
    "for line in fhand:\n",
    "    print (line)\n",
    "    count = count + 1\n",
    "print ('Line Count:', count)"
   ]
  },
  {
   "cell_type": "code",
   "execution_count": 4,
   "metadata": {},
   "outputs": [
    {
     "data": {
      "text/plain": [
       "716"
      ]
     },
     "execution_count": 4,
     "metadata": {},
     "output_type": "execute_result"
    }
   ],
   "source": [
    "fhand = open('test.txt')\n",
    "inp = fhand.read()\n",
    "len(inp)"
   ]
  },
  {
   "cell_type": "code",
   "execution_count": 5,
   "metadata": {},
   "outputs": [
    {
     "data": {
      "text/plain": [
       "'Tony Blair'"
      ]
     },
     "execution_count": 5,
     "metadata": {},
     "output_type": "execute_result"
    }
   ],
   "source": [
    "inp[:10]"
   ]
  },
  {
   "cell_type": "code",
   "execution_count": 8,
   "metadata": {},
   "outputs": [],
   "source": [
    "  # write aprogram that looks for the string \"leave\" in each line of he file \"test.txt\" and prints found if string is found in that lineor not found if string is not found in that line  "
   ]
  },
  {
   "cell_type": "code",
   "execution_count": 1,
   "metadata": {},
   "outputs": [
    {
     "name": "stdout",
     "output_type": "stream",
     "text": [
      "not found\n",
      "not found\n",
      "not found\n",
      "not found\n",
      "not found\n",
      "not found\n",
      "not found\n",
      "not found\n",
      "found\n",
      "not found\n",
      "not found\n"
     ]
    }
   ],
   "source": [
    "with open('test.txt', 'r') as file:\n",
    "    for line in file:\n",
    "        if 'leave' in line:\n",
    "            print(\"found\")\n",
    "        else:\n",
    "            print(\"not found\")\n"
   ]
  },
  {
   "cell_type": "code",
   "execution_count": 3,
   "metadata": {},
   "outputs": [
    {
     "name": "stdout",
     "output_type": "stream",
     "text": [
      "Tony Blair\n",
      " became \"o\n",
      "bsessed\" w\n",
      "ith creati\n",
      "ng of brin\n",
      "ging the U\n",
      "K together\n",
      ",\n",
      "their fo\n",
      "rmer prime\n",
      " minister \n",
      "the has re\n",
      "vealed.\n",
      "Re\n",
      "bel Tories\n",
      " and Labou\n",
      "r MPs are \n",
      "planning a\n",
      " bill to s\n",
      "top the UK\n",
      " leaving t\n",
      "he EU on 3\n",
      "1 October \n",
      "without a \n",
      "deal.\n",
      "\n",
      "Mr \n",
      "Johnson sa\n",
      "id he did \n",
      "not want a\n",
      "n election\n",
      ", but prog\n",
      "ress with \n",
      "the EU wou\n",
      "ld be \"imp\n",
      "ossible\" i\n",
      "f the MPs \n",
      "win.\n",
      "\n",
      "Jere\n",
      "my Corbyn \n",
      "said the L\n",
      "abour Part\n",
      "y was read\n",
      "y for a ge\n",
      "neral elec\n",
      "tion.\n",
      "\n",
      "But\n",
      " shadow No\n",
      "rthern Ire\n",
      "land secre\n",
      "tary Tony \n",
      "Lloyd late\n",
      "r said Lab\n",
      "our would \n",
      "vote again\n",
      "st any gov\n",
      "ernment pl\n",
      "ans to hol\n",
      "d a genera\n",
      "l election\n",
      " before th\n",
      "e UK is du\n",
      "e to leave\n",
      " the EU on\n",
      " 31 Octobe\n",
      "r.\n",
      "\n",
      "He sai\n",
      "d Labour \"\n",
      "will not h\n",
      "ave Boris \n",
      "Johnson di\n",
      "ctate the \n",
      "terms of a\n",
      "n election\n",
      " that cras\n",
      "hes this c\n",
      "ountry out\n",
      " with no d\n",
      "eal\".\n",
      "\n"
     ]
    }
   ],
   "source": [
    "# write a program that allows you to read a file upto 10 characters\n",
    "with open('test.txt', 'r') as file:\n",
    "    while True:\n",
    "        data = file.read(10)\n",
    "        if not data:\n",
    "            break\n",
    "        print(data)\n"
   ]
  },
  {
   "cell_type": "code",
   "execution_count": 6,
   "metadata": {},
   "outputs": [
    {
     "name": "stdout",
     "output_type": "stream",
     "text": [
      "TONY BLAIR BECAME \"OBSESSED\" WITH CREATING OF BRINGING THE UK TOGETHER,\n",
      "THEIR FORMER PRIME MINISTER THE HAS REVEALED.\n",
      "REBEL TORIES AND LABOUR MPS ARE PLANNING A BILL TO STOP THE UK LEAVING THE EU ON 31 OCTOBER WITHOUT A DEAL.\n",
      "\n",
      "MR JOHNSON SAID HE DID NOT WANT AN ELECTION, BUT PROGRESS WITH THE EU WOULD BE \"IMPOSSIBLE\" IF THE MPS WIN.\n",
      "\n",
      "JEREMY CORBYN SAID THE LABOUR PARTY WAS READY FOR A GENERAL ELECTION.\n",
      "\n",
      "BUT SHADOW NORTHERN IRELAND SECRETARY TONY LLOYD LATER SAID LABOUR WOULD VOTE AGAINST ANY GOVERNMENT PLANS TO HOLD A GENERAL ELECTION BEFORE THE UK IS DUE TO LEAVE THE EU ON 31 OCTOBER.\n",
      "\n",
      "HE SAID LABOUR \"WILL NOT HAVE BORIS JOHNSON DICTATE THE TERMS OF AN ELECTION THAT CRASHES THIS COUNTRY OUT WITH NO DEAL\".\n",
      "\n"
     ]
    }
   ],
   "source": [
    "# write a program to read a file and print the contents of the file in upper case\n",
    "# Open the file in read mode\n",
    "with open('test.txt', 'r') as file:\n",
    "    file_contents = file.read()\n",
    "    print(file_contents.upper())\n"
   ]
  },
  {
   "cell_type": "code",
   "execution_count": 7,
   "metadata": {},
   "outputs": [
    {
     "name": "stdout",
     "output_type": "stream",
     "text": [
      "Tony Blair became \"obsessed\" with creating of bringing the UK together,\n",
      "their former prime minister the has revealed.\n"
     ]
    }
   ],
   "source": [
    "\n",
    "# write a program that opens and prints the first two lines of the file \"test.txt\"\n",
    "with open('test.txt', 'r') as file:\n",
    "    first_line = file.readline()\n",
    "    print(first_line, end='')\n",
    "    second_line = file.readline()\n",
    "    print(second_line, end='')\n"
   ]
  },
  {
   "cell_type": "markdown",
   "metadata": {},
   "source": [
    "# 3. Using try, except, and open"
   ]
  },
  {
   "cell_type": "code",
   "execution_count": 3,
   "metadata": {},
   "outputs": [
    {
     "name": "stdout",
     "output_type": "stream",
     "text": [
      "Enter the file name: open.txt\n",
      "File cannot be opened: open.txt\n",
      "There were 11  lines in open.txt\n"
     ]
    }
   ],
   "source": [
    "fname = input('Enter the file name: ')\n",
    "#fname = 'test.txt'\n",
    "try:\n",
    "    fhand = open(fname)\n",
    "except:\n",
    "    print ('File cannot be opened:', fname)\n",
    "    exit()\n",
    "count = 0\n",
    "for line in fhand:\n",
    "    #if line.startswith('Subject:') :\n",
    "    count = count + 1\n",
    "print ('There were', count, ' lines in', fname)"
   ]
  },
  {
   "cell_type": "markdown",
   "metadata": {},
   "source": [
    "# 4. Writing files"
   ]
  },
  {
   "cell_type": "code",
   "execution_count": 7,
   "metadata": {
    "collapsed": true
   },
   "outputs": [],
   "source": [
    "fout = open('output.txt', 'w')"
   ]
  },
  {
   "cell_type": "code",
   "execution_count": 9,
   "metadata": {
    "collapsed": true
   },
   "outputs": [],
   "source": [
    "line1 = \"This here's the wattle,\\n\"\n",
    "fout.write(line1)\n",
    "fout.close()"
   ]
  },
  {
   "cell_type": "code",
   "execution_count": 10,
   "metadata": {
    "collapsed": true
   },
   "outputs": [],
   "source": [
    "s = '1 2\\t 3\\n 4'"
   ]
  },
  {
   "cell_type": "code",
   "execution_count": 11,
   "metadata": {},
   "outputs": [
    {
     "name": "stdout",
     "output_type": "stream",
     "text": [
      "1 2\t 3\n",
      " 4\n"
     ]
    }
   ],
   "source": [
    "print(s)"
   ]
  },
  {
   "cell_type": "code",
   "execution_count": 12,
   "metadata": {},
   "outputs": [
    {
     "name": "stdout",
     "output_type": "stream",
     "text": [
      "'1 2\\t 3\\n 4'\n"
     ]
    }
   ],
   "source": [
    "print (repr(s))"
   ]
  },
  {
   "cell_type": "code",
   "execution_count": 13,
   "metadata": {},
   "outputs": [
    {
     "data": {
      "text/plain": [
       "'1 2\\t 3\\n 4'"
      ]
     },
     "execution_count": 13,
     "metadata": {},
     "output_type": "execute_result"
    }
   ],
   "source": [
    "s"
   ]
  },
  {
   "cell_type": "code",
   "execution_count": 8,
   "metadata": {},
   "outputs": [
    {
     "name": "stdout",
     "output_type": "stream",
     "text": [
      "This here's the wattle,\n",
      "This here's the wattle,\n",
      "This is some additional text.\n",
      "\n"
     ]
    }
   ],
   "source": [
    "# Write a program that open and read the file after appending text to a file\n",
    "# Open the file in append mode\n",
    "with open('output.txt', 'a') as file:\n",
    "    text_to_append = \"This is some additional text.\\n\"\n",
    "    file.write(text_to_append)\n",
    "with open('output.txt', 'r') as file:\n",
    "    file_contents = file.read()\n",
    "    print(file_contents)\n"
   ]
  },
  {
   "cell_type": "code",
   "execution_count": null,
   "metadata": {},
   "outputs": [],
   "source": []
  }
 ],
 "metadata": {
  "kernelspec": {
   "display_name": "Python 3 (ipykernel)",
   "language": "python",
   "name": "python3"
  },
  "language_info": {
   "codemirror_mode": {
    "name": "ipython",
    "version": 3
   },
   "file_extension": ".py",
   "mimetype": "text/x-python",
   "name": "python",
   "nbconvert_exporter": "python",
   "pygments_lexer": "ipython3",
   "version": "3.11.5"
  }
 },
 "nbformat": 4,
 "nbformat_minor": 2
}
