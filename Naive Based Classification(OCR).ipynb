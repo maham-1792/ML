{
 "cells": [
  {
   "cell_type": "code",
   "execution_count": 44,
   "id": "31a66210",
   "metadata": {},
   "outputs": [
    {
     "data": {
      "text/plain": [
       "<matplotlib.image.AxesImage at 0x2783a539b90>"
      ]
     },
     "execution_count": 44,
     "metadata": {},
     "output_type": "execute_result"
    },
    {
     "data": {
      "image/png": "[encoded data removed]",
      "text/plain": [
       "<Figure size 640x480 with 1 Axes>"
      ]
     },
     "metadata": {},
     "output_type": "display_data"
    }
   ],
   "source": [
    "%matplotlib inline\n",
    "\n",
    "import numpy as np\n",
    "\n",
    "from matplotlib import pyplot as plt\n",
    "\n",
    "img2=np.array([0,0,0,0,0,0,0,0,0,0,0,0,0,0,0,0,0,0,1,1,1,0,0,0,0,0,0,0,0,0,0,0,0,1,1,0,0,0,0,0,0,0,0,0,0,1,0,0,1,0,0,0,0,0,0,0,0,0,0,0,1,1,0,0,1,0,0,0,0,0,0,0,0,0,0,0,1,1,0,0,1,0,0,0,0,0,0,0,0,0,0,0,1,1,1,0,1,0,0,0,0,0,0,0,0,0,0,1,1,0,1,0,1,0,0,0,0,0,0,0,0,0,0,1,0,0,1,0,1,0,0,0,0,0,0,0,0,0,1,0,0,0,1,0,1,1,1,1,1,1,1,1,1,1,1,0,0,0,1,1,0,0,0,0,0,0,0,0,0,0,0,0,0,0,0,1,0,0,0,0,0,0,0,0,0,0,0,0,0,0,0,1,0,0,0,0,0,0,0,0,0,0,0,0,0,0,0,1,0,0,0,0,0,0,0,0,0,0,0,0,0,0,0,1,0,0,0,0,0,0,0,0,0,0,0,0,0,0,0,1,0,0,0,0,0,0,0,0,0,0,0,0,0,0,0,0],dtype=np.uint8)\n",
    "\n",
    "img4=np.array([0,0,0,0,0,0,0,0,0,0,0,0,0,0,0,0,0,0,0,0,0,0,0,0,0,0,0,0,0,0,0,0,0,0,0,0,0,0,0,1,0,0,0,0,0,0,0,0,1,1,1,1,1,1,1,1,0,0,0,0,0,0,0,0,0,0,0,0,0,0,0,1,0,0,0,0,0,0,0,1,0,0,0,0,0,0,0,1,0,0,0,0,0,1,1,1,0,0,0,0,0,0,1,0,0,0,1,1,1,0,0,0,0,0,0,0,0,0,1,0,0,1,1,0,0,0,0,0,0,0,0,0,0,0,1,1,1,0,0,0,0,0,0,0,0,1,1,1,1,1,1,0,0,0,0,0,0,0,0,0,1,1,0,0,0,1,0,0,0,0,0,0,0,0,0,0,0,0,0,0,0,1,0,0,0,0,0,0,0,0,0,0,0,0,0,0,1,1,0,0,0,0,0,0,0,0,0,0,0,0,0,0,0,1,0,0,0,0,0,0,0,0,0,0,0,0,0,0,0,0,0,0,0,0,0,0,0,0,0,0,0,0,0,0,0,0,0,0,0,0,0,0,0,0,0,0],dtype=np.uint8)\n",
    "\n",
    "img = np.reshape(img2,(16,16),order='F')\n",
    "\n",
    "plt.imshow(img)\n"
   ]
  },
  {
   "cell_type": "code",
   "execution_count": 45,
   "id": "3e369472",
   "metadata": {},
   "outputs": [],
   "source": [
    "trainX = np.loadtxt(\"trainX.txt\", dtype=np.uint8)\n",
    "trainY = np.loadtxt(\"trainY.txt\", dtype=np.uint8)\n",
    "testX = np.loadtxt(\"testX.txt\", dtype=np.uint8)\n",
    "testY = np.loadtxt(\"testY.txt\", dtype=np.uint8)"
   ]
  },
  {
   "cell_type": "code",
   "execution_count": 46,
   "id": "2a8c4046",
   "metadata": {},
   "outputs": [],
   "source": [
    "trainX = trainX.reshape(-1, 16, 16, order='F')\n",
    "testX = testX.reshape(-1, 16, 16)\n"
   ]
  },
  {
   "cell_type": "code",
   "execution_count": 47,
   "id": "2be86b05",
   "metadata": {},
   "outputs": [
    {
     "name": "stdout",
     "output_type": "stream",
     "text": [
      "trainX: (500, 16, 16)\n",
      "trainY: (500,)\n",
      "testX:  (100, 16, 16)\n",
      "testY:  (100,)\n"
     ]
    }
   ],
   "source": [
    "#printing the shapes of the vectors\n",
    "print('trainX: ' + str(trainX.shape))\n",
    "print('trainY: ' + str(trainY.shape))\n",
    "print('testX:  '  + str(testX.shape))\n",
    "print('testY:  '  + str(testY.shape))"
   ]
  },
  {
   "cell_type": "code",
   "execution_count": 65,
   "id": "c116091e",
   "metadata": {},
   "outputs": [
    {
     "name": "stdout",
     "output_type": "stream",
     "text": [
      "[[[0 0 0 ... 0 0 0]\n",
      "  [0 0 1 ... 0 0 0]\n",
      "  [0 1 1 ... 0 0 0]\n",
      "  ...\n",
      "  [0 0 1 ... 0 0 0]\n",
      "  [0 0 0 ... 0 0 0]\n",
      "  [0 0 0 ... 1 1 0]]\n",
      "\n",
      " [[0 0 0 ... 0 0 0]\n",
      "  [0 0 0 ... 0 0 0]\n",
      "  [0 0 0 ... 0 0 0]\n",
      "  ...\n",
      "  [0 0 0 ... 0 0 0]\n",
      "  [0 0 0 ... 0 0 0]\n",
      "  [0 0 0 ... 0 0 0]]\n",
      "\n",
      " [[0 0 0 ... 0 0 0]\n",
      "  [0 0 0 ... 0 0 0]\n",
      "  [0 0 0 ... 0 0 0]\n",
      "  ...\n",
      "  [0 0 0 ... 0 0 0]\n",
      "  [0 0 0 ... 0 0 0]\n",
      "  [0 0 0 ... 1 1 1]]\n",
      "\n",
      " ...\n",
      "\n",
      " [[0 0 0 ... 0 0 0]\n",
      "  [0 0 1 ... 0 0 0]\n",
      "  [1 1 0 ... 0 0 0]\n",
      "  ...\n",
      "  [0 0 1 ... 0 0 0]\n",
      "  [1 1 1 ... 0 0 0]\n",
      "  [0 0 1 ... 1 1 1]]\n",
      "\n",
      " [[0 0 0 ... 0 0 0]\n",
      "  [0 0 1 ... 0 0 0]\n",
      "  [0 1 1 ... 0 0 0]\n",
      "  ...\n",
      "  [0 0 1 ... 0 0 0]\n",
      "  [0 0 0 ... 0 0 0]\n",
      "  [0 0 0 ... 1 1 0]]\n",
      "\n",
      " [[0 0 0 ... 0 0 0]\n",
      "  [0 0 0 ... 0 0 0]\n",
      "  [0 0 0 ... 1 0 0]\n",
      "  ...\n",
      "  [0 0 0 ... 0 0 0]\n",
      "  [0 0 0 ... 0 0 0]\n",
      "  [0 0 1 ... 0 0 0]]]\n"
     ]
    },
    {
     "data": {
      "text/plain": [
       "<function matplotlib.pyplot.show(close=None, block=None)>"
      ]
     },
     "execution_count": 65,
     "metadata": {},
     "output_type": "execute_result"
    },
    {
     "data": {
      "image/png": "[encoded data removed]",
      "text/plain": [
       "<Figure size 640x480 with 1 Axes>"
      ]
     },
     "metadata": {},
     "output_type": "display_data"
    }
   ],
   "source": [
    "train2=trainX[:250,:]\n",
    "print(train2)\n",
    "train2.shape\n",
    "plt.imshow(train2[200])\n",
    "plt.show"
   ]
  },
  {
   "cell_type": "code",
   "execution_count": 66,
   "id": "12ec7385",
   "metadata": {},
   "outputs": [
    {
     "name": "stdout",
     "output_type": "stream",
     "text": [
      "[[[0 0 0 ... 0 0 0]\n",
      "  [0 0 0 ... 0 0 0]\n",
      "  [0 0 0 ... 0 0 0]\n",
      "  ...\n",
      "  [0 0 1 ... 1 0 0]\n",
      "  [0 0 0 ... 0 0 0]\n",
      "  [0 0 0 ... 0 0 0]]\n",
      "\n",
      " [[0 0 0 ... 0 0 0]\n",
      "  [0 0 0 ... 0 0 0]\n",
      "  [0 0 0 ... 0 0 0]\n",
      "  ...\n",
      "  [0 0 0 ... 0 0 0]\n",
      "  [0 0 0 ... 0 0 0]\n",
      "  [0 0 0 ... 0 0 0]]\n",
      "\n",
      " [[0 0 0 ... 0 0 0]\n",
      "  [0 0 0 ... 0 0 0]\n",
      "  [0 0 0 ... 0 0 0]\n",
      "  ...\n",
      "  [0 0 0 ... 0 0 0]\n",
      "  [0 0 0 ... 0 0 0]\n",
      "  [0 0 0 ... 0 0 0]]\n",
      "\n",
      " ...\n",
      "\n",
      " [[0 0 0 ... 0 0 0]\n",
      "  [0 0 0 ... 0 0 0]\n",
      "  [0 0 0 ... 0 0 0]\n",
      "  ...\n",
      "  [0 0 0 ... 0 0 0]\n",
      "  [0 0 0 ... 0 0 0]\n",
      "  [0 0 0 ... 0 0 0]]\n",
      "\n",
      " [[0 0 0 ... 0 0 0]\n",
      "  [0 0 0 ... 0 0 0]\n",
      "  [0 0 0 ... 0 0 0]\n",
      "  ...\n",
      "  [0 0 0 ... 0 0 0]\n",
      "  [0 0 0 ... 0 0 0]\n",
      "  [0 0 0 ... 0 0 0]]\n",
      "\n",
      " [[0 0 0 ... 0 0 0]\n",
      "  [0 0 0 ... 0 0 0]\n",
      "  [0 0 0 ... 0 0 0]\n",
      "  ...\n",
      "  [0 0 0 ... 0 0 0]\n",
      "  [0 0 0 ... 0 0 0]\n",
      "  [0 0 0 ... 0 0 0]]]\n"
     ]
    },
    {
     "data": {
      "text/plain": [
       "<matplotlib.image.AxesImage at 0x2783ba1f350>"
      ]
     },
     "execution_count": 66,
     "metadata": {},
     "output_type": "execute_result"
    },
    {
     "data": {
      "image/png": "[encoded data removed]",
      "text/plain": [
       "<Figure size 640x480 with 1 Axes>"
      ]
     },
     "metadata": {},
     "output_type": "display_data"
    }
   ],
   "source": [
    "train4=trainX[250:,:]\n",
    "print(train4)\n",
    "train4.shape\n",
    "plt.imshow(train4[169])\n",
    "\n"
   ]
  },
  {
   "cell_type": "code",
   "execution_count": 50,
   "id": "478e62d8",
   "metadata": {},
   "outputs": [
    {
     "name": "stdout",
     "output_type": "stream",
     "text": [
      "[2 2 2 2 2 2 2 2 2 2 2 2 2 2 2 2 2 2 2 2 2 2 2 2 2 2 2 2 2 2 2 2 2 2 2 2 2\n",
      " 2 2 2 2 2 2 2 2 2 2 2 2 2 2 2 2 2 2 2 2 2 2 2 2 2 2 2 2 2 2 2 2 2 2 2 2 2\n",
      " 2 2 2 2 2 2 2 2 2 2 2 2 2 2 2 2 2 2 2 2 2 2 2 2 2 2 2 2 2 2 2 2 2 2 2 2 2\n",
      " 2 2 2 2 2 2 2 2 2 2 2 2 2 2 2 2 2 2 2 2 2 2 2 2 2 2 2 2 2 2 2 2 2 2 2 2 2\n",
      " 2 2 2 2 2 2 2 2 2 2 2 2 2 2 2 2 2 2 2 2 2 2 2 2 2 2 2 2 2 2 2 2 2 2 2 2 2\n",
      " 2 2 2 2 2 2 2 2 2 2 2 2 2 2 2 2 2 2 2 2 2 2 2 2 2 2 2 2 2 2 2 2 2 2 2 2 2\n",
      " 2 2 2 2 2 2 2 2 2 2 2 2 2 2 2 2 2 2 2 2 2 2 2 2 2 2 2 2]\n"
     ]
    },
    {
     "data": {
      "text/plain": [
       "(250,)"
      ]
     },
     "execution_count": 50,
     "metadata": {},
     "output_type": "execute_result"
    }
   ],
   "source": [
    "train3=trainY[:250]\n",
    "print(train3)\n",
    "train3.shape"
   ]
  },
  {
   "cell_type": "code",
   "execution_count": 51,
   "id": "c16d5e49",
   "metadata": {},
   "outputs": [
    {
     "name": "stdout",
     "output_type": "stream",
     "text": [
      "[4 4 4 4 4 4 4 4 4 4 4 4 4 4 4 4 4 4 4 4 4 4 4 4 4 4 4 4 4 4 4 4 4 4 4 4 4\n",
      " 4 4 4 4 4 4 4 4 4 4 4 4 4 4 4 4 4 4 4 4 4 4 4 4 4 4 4 4 4 4 4 4 4 4 4 4 4\n",
      " 4 4 4 4 4 4 4 4 4 4 4 4 4 4 4 4 4 4 4 4 4 4 4 4 4 4 4 4 4 4 4 4 4 4 4 4 4\n",
      " 4 4 4 4 4 4 4 4 4 4 4 4 4 4 4 4 4 4 4 4 4 4 4 4 4 4 4 4 4 4 4 4 4 4 4 4 4\n",
      " 4 4 4 4 4 4 4 4 4 4 4 4 4 4 4 4 4 4 4 4 4 4 4 4 4 4 4 4 4 4 4 4 4 4 4 4 4\n",
      " 4 4 4 4 4 4 4 4 4 4 4 4 4 4 4 4 4 4 4 4 4 4 4 4 4 4 4 4 4 4 4 4 4 4 4 4 4\n",
      " 4 4 4 4 4 4 4 4 4 4 4 4 4 4 4 4 4 4 4 4 4 4 4 4 4 4 4 4]\n"
     ]
    },
    {
     "data": {
      "text/plain": [
       "(250,)"
      ]
     },
     "execution_count": 51,
     "metadata": {},
     "output_type": "execute_result"
    }
   ],
   "source": [
    "train5=trainY[250:]\n",
    "print(train5)\n",
    "train5.shape"
   ]
  },
  {
   "cell_type": "code",
   "execution_count": 67,
   "id": "5d7d4e8c",
   "metadata": {},
   "outputs": [
    {
     "name": "stdout",
     "output_type": "stream",
     "text": [
      "[[[0 0 0 ... 0 0 0]\n",
      "  [0 0 0 ... 0 0 0]\n",
      "  [0 0 0 ... 1 0 0]\n",
      "  ...\n",
      "  [0 0 0 ... 0 1 1]\n",
      "  [0 0 0 ... 0 1 0]\n",
      "  [0 0 0 ... 0 0 0]]\n",
      "\n",
      " [[0 0 0 ... 0 0 0]\n",
      "  [0 0 0 ... 0 0 1]\n",
      "  [0 0 0 ... 0 0 1]\n",
      "  ...\n",
      "  [0 0 0 ... 0 0 1]\n",
      "  [0 0 0 ... 0 0 1]\n",
      "  [0 0 0 ... 0 0 0]]\n",
      "\n",
      " [[0 0 0 ... 0 0 0]\n",
      "  [0 1 1 ... 1 1 1]\n",
      "  [0 1 0 ... 0 0 1]\n",
      "  ...\n",
      "  [0 0 0 ... 1 1 0]\n",
      "  [0 0 0 ... 1 0 0]\n",
      "  [0 0 0 ... 0 0 0]]\n",
      "\n",
      " ...\n",
      "\n",
      " [[0 0 0 ... 0 0 0]\n",
      "  [0 0 0 ... 0 0 0]\n",
      "  [0 0 0 ... 0 0 0]\n",
      "  ...\n",
      "  [0 0 0 ... 0 0 1]\n",
      "  [0 0 0 ... 0 1 1]\n",
      "  [0 0 0 ... 0 0 0]]\n",
      "\n",
      " [[0 0 0 ... 0 0 0]\n",
      "  [0 0 0 ... 0 0 0]\n",
      "  [0 0 0 ... 0 1 0]\n",
      "  ...\n",
      "  [0 0 0 ... 0 0 1]\n",
      "  [0 0 0 ... 0 0 0]\n",
      "  [0 0 0 ... 0 0 0]]\n",
      "\n",
      " [[0 0 0 ... 0 0 0]\n",
      "  [0 0 1 ... 0 0 0]\n",
      "  [0 0 1 ... 0 0 0]\n",
      "  ...\n",
      "  [0 0 0 ... 0 0 1]\n",
      "  [0 0 0 ... 0 0 1]\n",
      "  [0 0 0 ... 0 0 0]]]\n"
     ]
    },
    {
     "data": {
      "text/plain": [
       "<matplotlib.image.AxesImage at 0x2783baaf1d0>"
      ]
     },
     "execution_count": 67,
     "metadata": {},
     "output_type": "execute_result"
    },
    {
     "data": {
      "image/png": "[encoded data removed]",
      "text/plain": [
       "<Figure size 640x480 with 1 Axes>"
      ]
     },
     "metadata": {},
     "output_type": "display_data"
    }
   ],
   "source": [
    "test2=testX[:50,:]\n",
    "print(test2)\n",
    "test2.shape\n",
    "plt.imshow(test2[30])"
   ]
  },
  {
   "cell_type": "code",
   "execution_count": 68,
   "id": "1e6df75f",
   "metadata": {},
   "outputs": [
    {
     "name": "stdout",
     "output_type": "stream",
     "text": [
      "[[[0 0 0 ... 0 0 0]\n",
      "  [0 0 0 ... 0 0 0]\n",
      "  [0 0 0 ... 0 0 0]\n",
      "  ...\n",
      "  [0 0 0 ... 0 0 0]\n",
      "  [0 0 0 ... 0 0 0]\n",
      "  [0 0 0 ... 0 0 0]]\n",
      "\n",
      " [[0 0 0 ... 0 0 0]\n",
      "  [0 0 0 ... 0 0 0]\n",
      "  [0 0 0 ... 0 0 0]\n",
      "  ...\n",
      "  [0 0 0 ... 0 0 0]\n",
      "  [0 0 0 ... 0 0 0]\n",
      "  [0 0 0 ... 0 0 0]]\n",
      "\n",
      " [[0 0 0 ... 0 0 0]\n",
      "  [0 0 0 ... 0 0 0]\n",
      "  [0 0 0 ... 0 0 0]\n",
      "  ...\n",
      "  [0 0 0 ... 0 0 0]\n",
      "  [0 0 0 ... 0 0 0]\n",
      "  [0 0 0 ... 0 0 0]]\n",
      "\n",
      " ...\n",
      "\n",
      " [[0 0 0 ... 0 0 0]\n",
      "  [0 0 0 ... 0 0 0]\n",
      "  [0 0 0 ... 0 0 0]\n",
      "  ...\n",
      "  [0 0 0 ... 0 0 0]\n",
      "  [0 0 0 ... 0 0 0]\n",
      "  [0 0 0 ... 0 0 0]]\n",
      "\n",
      " [[0 0 0 ... 0 0 0]\n",
      "  [0 0 0 ... 0 0 0]\n",
      "  [0 0 0 ... 0 0 0]\n",
      "  ...\n",
      "  [0 0 0 ... 0 0 0]\n",
      "  [0 0 0 ... 0 0 0]\n",
      "  [0 0 0 ... 0 0 0]]\n",
      "\n",
      " [[0 0 0 ... 0 0 0]\n",
      "  [0 0 0 ... 0 0 0]\n",
      "  [0 0 0 ... 0 0 0]\n",
      "  ...\n",
      "  [0 0 0 ... 0 0 0]\n",
      "  [0 0 0 ... 0 0 0]\n",
      "  [0 0 0 ... 0 0 0]]]\n"
     ]
    },
    {
     "data": {
      "text/plain": [
       "<matplotlib.image.AxesImage at 0x2783b8e3050>"
      ]
     },
     "execution_count": 68,
     "metadata": {},
     "output_type": "execute_result"
    },
    {
     "data": {
      "image/png": "[encoded data removed]",
      "text/plain": [
       "<Figure size 640x480 with 1 Axes>"
      ]
     },
     "metadata": {},
     "output_type": "display_data"
    }
   ],
   "source": [
    "test4=testX[50:,:]\n",
    "print(test4)\n",
    "test4.shape\n",
    "plt.imshow(test4[49])\n"
   ]
  },
  {
   "cell_type": "code",
   "execution_count": 54,
   "id": "e36bee74",
   "metadata": {},
   "outputs": [
    {
     "name": "stdout",
     "output_type": "stream",
     "text": [
      "[2 2 2 2 2 2 2 2 2 2 2 2 2 2 2 2 2 2 2 2 2 2 2 2 2 2 2 2 2 2 2 2 2 2 2 2 2\n",
      " 2 2 2 2 2 2 2 2 2 2 2 2 2]\n"
     ]
    },
    {
     "data": {
      "text/plain": [
       "(50,)"
      ]
     },
     "execution_count": 54,
     "metadata": {},
     "output_type": "execute_result"
    }
   ],
   "source": [
    "test3=testY[:50]\n",
    "print(test3)\n",
    "test3.shape"
   ]
  },
  {
   "cell_type": "code",
   "execution_count": 55,
   "id": "c1ca98fb",
   "metadata": {},
   "outputs": [
    {
     "name": "stdout",
     "output_type": "stream",
     "text": [
      "[4 4 4 4 4 4 4 4 4 4 4 4 4 4 4 4 4 4 4 4 4 4 4 4 4 4 4 4 4 4 4 4 4 4 4 4 4\n",
      " 4 4 4 4 4 4 4 4 4 4 4 4 4]\n"
     ]
    },
    {
     "data": {
      "text/plain": [
       "(50,)"
      ]
     },
     "execution_count": 55,
     "metadata": {},
     "output_type": "execute_result"
    }
   ],
   "source": [
    "test5=testY[50:]\n",
    "print(test5)\n",
    "test5.shape"
   ]
  },
  {
   "cell_type": "code",
   "execution_count": 56,
   "id": "4f46d8d6",
   "metadata": {},
   "outputs": [
    {
     "name": "stdout",
     "output_type": "stream",
     "text": [
      "[[0.008 0.032 0.096 0.232 0.376 0.556 0.692 0.764 0.736 0.656 0.492 0.284\n",
      "  0.116 0.056 0.02  0.   ]\n",
      " [0.032 0.1   0.208 0.32  0.324 0.356 0.38  0.304 0.248 0.296 0.304 0.272\n",
      "  0.1   0.06  0.028 0.008]\n",
      " [0.068 0.128 0.228 0.288 0.212 0.228 0.208 0.172 0.184 0.236 0.232 0.264\n",
      "  0.148 0.072 0.024 0.008]\n",
      " [0.104 0.132 0.196 0.212 0.168 0.144 0.08  0.104 0.148 0.188 0.224 0.22\n",
      "  0.168 0.076 0.02  0.012]\n",
      " [0.088 0.108 0.152 0.132 0.088 0.06  0.04  0.076 0.148 0.176 0.228 0.212\n",
      "  0.164 0.076 0.024 0.012]\n",
      " [0.072 0.088 0.092 0.052 0.036 0.02  0.028 0.068 0.112 0.188 0.216 0.212\n",
      "  0.164 0.072 0.016 0.02 ]\n",
      " [0.04  0.028 0.032 0.028 0.016 0.    0.016 0.072 0.12  0.216 0.244 0.208\n",
      "  0.144 0.072 0.02  0.02 ]\n",
      " [0.016 0.    0.012 0.008 0.004 0.004 0.048 0.072 0.164 0.268 0.28  0.2\n",
      "  0.108 0.068 0.016 0.016]\n",
      " [0.008 0.    0.    0.004 0.    0.028 0.06  0.112 0.252 0.284 0.28  0.132\n",
      "  0.092 0.04  0.012 0.004]\n",
      " [0.004 0.004 0.012 0.016 0.04  0.072 0.124 0.228 0.328 0.352 0.196 0.1\n",
      "  0.056 0.04  0.008 0.008]\n",
      " [0.012 0.024 0.056 0.092 0.124 0.156 0.268 0.292 0.372 0.236 0.144 0.048\n",
      "  0.036 0.044 0.024 0.016]\n",
      " [0.024 0.04  0.108 0.152 0.244 0.352 0.408 0.376 0.34  0.164 0.052 0.028\n",
      "  0.016 0.056 0.02  0.032]\n",
      " [0.032 0.088 0.204 0.296 0.372 0.492 0.42  0.308 0.248 0.124 0.056 0.028\n",
      "  0.032 0.072 0.04  0.04 ]\n",
      " [0.056 0.112 0.276 0.38  0.504 0.456 0.352 0.248 0.228 0.16  0.104 0.1\n",
      "  0.064 0.1   0.04  0.04 ]\n",
      " [0.052 0.14  0.296 0.332 0.432 0.436 0.448 0.396 0.364 0.336 0.272 0.288\n",
      "  0.244 0.216 0.128 0.088]\n",
      " [0.02  0.076 0.232 0.332 0.392 0.44  0.428 0.452 0.54  0.648 0.712 0.768\n",
      "  0.752 0.64  0.372 0.16 ]]\n"
     ]
    }
   ],
   "source": [
    "one_prob2=train2.sum(axis=0)/train2.shape[0]\n",
    "print(one_prob2)"
   ]
  },
  {
   "cell_type": "code",
   "execution_count": 57,
   "id": "3dd95c1d",
   "metadata": {},
   "outputs": [
    {
     "name": "stdout",
     "output_type": "stream",
     "text": [
      "[[0.992 0.968 0.904 0.768 0.624 0.444 0.308 0.236 0.264 0.344 0.508 0.716\n",
      "  0.884 0.944 0.98  1.   ]\n",
      " [0.968 0.9   0.792 0.68  0.676 0.644 0.62  0.696 0.752 0.704 0.696 0.728\n",
      "  0.9   0.94  0.972 0.992]\n",
      " [0.932 0.872 0.772 0.712 0.788 0.772 0.792 0.828 0.816 0.764 0.768 0.736\n",
      "  0.852 0.928 0.976 0.992]\n",
      " [0.896 0.868 0.804 0.788 0.832 0.856 0.92  0.896 0.852 0.812 0.776 0.78\n",
      "  0.832 0.924 0.98  0.988]\n",
      " [0.912 0.892 0.848 0.868 0.912 0.94  0.96  0.924 0.852 0.824 0.772 0.788\n",
      "  0.836 0.924 0.976 0.988]\n",
      " [0.928 0.912 0.908 0.948 0.964 0.98  0.972 0.932 0.888 0.812 0.784 0.788\n",
      "  0.836 0.928 0.984 0.98 ]\n",
      " [0.96  0.972 0.968 0.972 0.984 1.    0.984 0.928 0.88  0.784 0.756 0.792\n",
      "  0.856 0.928 0.98  0.98 ]\n",
      " [0.984 1.    0.988 0.992 0.996 0.996 0.952 0.928 0.836 0.732 0.72  0.8\n",
      "  0.892 0.932 0.984 0.984]\n",
      " [0.992 1.    1.    0.996 1.    0.972 0.94  0.888 0.748 0.716 0.72  0.868\n",
      "  0.908 0.96  0.988 0.996]\n",
      " [0.996 0.996 0.988 0.984 0.96  0.928 0.876 0.772 0.672 0.648 0.804 0.9\n",
      "  0.944 0.96  0.992 0.992]\n",
      " [0.988 0.976 0.944 0.908 0.876 0.844 0.732 0.708 0.628 0.764 0.856 0.952\n",
      "  0.964 0.956 0.976 0.984]\n",
      " [0.976 0.96  0.892 0.848 0.756 0.648 0.592 0.624 0.66  0.836 0.948 0.972\n",
      "  0.984 0.944 0.98  0.968]\n",
      " [0.968 0.912 0.796 0.704 0.628 0.508 0.58  0.692 0.752 0.876 0.944 0.972\n",
      "  0.968 0.928 0.96  0.96 ]\n",
      " [0.944 0.888 0.724 0.62  0.496 0.544 0.648 0.752 0.772 0.84  0.896 0.9\n",
      "  0.936 0.9   0.96  0.96 ]\n",
      " [0.948 0.86  0.704 0.668 0.568 0.564 0.552 0.604 0.636 0.664 0.728 0.712\n",
      "  0.756 0.784 0.872 0.912]\n",
      " [0.98  0.924 0.768 0.668 0.608 0.56  0.572 0.548 0.46  0.352 0.288 0.232\n",
      "  0.248 0.36  0.628 0.84 ]]\n"
     ]
    }
   ],
   "source": [
    "zero_prob2=1-one_prob2\n",
    "print(zero_prob2)"
   ]
  },
  {
   "cell_type": "code",
   "execution_count": 58,
   "id": "dfcc75a7",
   "metadata": {},
   "outputs": [
    {
     "name": "stdout",
     "output_type": "stream",
     "text": [
      "[[0.012 0.048 0.08  0.2   0.18  0.204 0.152 0.12  0.08  0.036 0.032 0.004\n",
      "  0.004 0.    0.    0.   ]\n",
      " [0.012 0.048 0.088 0.224 0.16  0.2   0.156 0.116 0.076 0.048 0.028 0.016\n",
      "  0.    0.004 0.004 0.   ]\n",
      " [0.012 0.056 0.1   0.216 0.164 0.204 0.16  0.128 0.056 0.048 0.048 0.032\n",
      "  0.012 0.004 0.    0.   ]\n",
      " [0.012 0.056 0.128 0.236 0.208 0.224 0.188 0.104 0.036 0.072 0.088 0.06\n",
      "  0.02  0.004 0.    0.   ]\n",
      " [0.016 0.052 0.136 0.268 0.216 0.216 0.176 0.064 0.064 0.148 0.148 0.072\n",
      "  0.028 0.004 0.    0.   ]\n",
      " [0.016 0.044 0.152 0.3   0.264 0.288 0.128 0.052 0.136 0.212 0.184 0.12\n",
      "  0.02  0.016 0.    0.   ]\n",
      " [0.02  0.064 0.148 0.3   0.336 0.24  0.088 0.056 0.188 0.288 0.228 0.144\n",
      "  0.036 0.028 0.008 0.   ]\n",
      " [0.032 0.06  0.156 0.352 0.392 0.268 0.148 0.14  0.296 0.392 0.3   0.204\n",
      "  0.088 0.048 0.024 0.008]\n",
      " [0.04  0.076 0.172 0.344 0.336 0.26  0.176 0.172 0.348 0.436 0.312 0.188\n",
      "  0.104 0.056 0.02  0.008]\n",
      " [0.048 0.068 0.196 0.36  0.332 0.272 0.228 0.232 0.38  0.476 0.364 0.3\n",
      "  0.184 0.088 0.04  0.02 ]\n",
      " [0.04  0.088 0.168 0.284 0.3   0.26  0.288 0.352 0.468 0.524 0.408 0.3\n",
      "  0.18  0.088 0.036 0.012]\n",
      " [0.028 0.084 0.128 0.212 0.216 0.216 0.252 0.308 0.448 0.484 0.38  0.276\n",
      "  0.196 0.112 0.048 0.012]\n",
      " [0.008 0.012 0.068 0.084 0.088 0.124 0.132 0.224 0.376 0.396 0.24  0.136\n",
      "  0.088 0.072 0.04  0.016]\n",
      " [0.008 0.004 0.028 0.036 0.032 0.064 0.072 0.184 0.356 0.3   0.192 0.076\n",
      "  0.036 0.036 0.004 0.   ]\n",
      " [0.004 0.004 0.008 0.004 0.016 0.04  0.06  0.184 0.312 0.296 0.148 0.052\n",
      "  0.008 0.    0.    0.   ]\n",
      " [0.    0.004 0.    0.    0.024 0.04  0.1   0.208 0.348 0.308 0.168 0.052\n",
      "  0.008 0.    0.    0.   ]]\n"
     ]
    }
   ],
   "source": [
    "one_prob4=train4.sum(axis=0)/train4.shape[0]\n",
    "print(one_prob4)"
   ]
  },
  {
   "cell_type": "code",
   "execution_count": 59,
   "id": "476662e7",
   "metadata": {},
   "outputs": [
    {
     "name": "stdout",
     "output_type": "stream",
     "text": [
      "[[0.992 0.968 0.932 0.896 0.912 0.928 0.96  0.984 0.992 0.996 0.988 0.976\n",
      "  0.968 0.944 0.948 0.98 ]\n",
      " [0.968 0.9   0.872 0.868 0.892 0.912 0.972 1.    1.    0.996 0.976 0.96\n",
      "  0.912 0.888 0.86  0.924]\n",
      " [0.904 0.792 0.772 0.804 0.848 0.908 0.968 0.988 1.    0.988 0.944 0.892\n",
      "  0.796 0.724 0.704 0.768]\n",
      " [0.768 0.68  0.712 0.788 0.868 0.948 0.972 0.992 0.996 0.984 0.908 0.848\n",
      "  0.704 0.62  0.668 0.668]\n",
      " [0.624 0.676 0.788 0.832 0.912 0.964 0.984 0.996 1.    0.96  0.876 0.756\n",
      "  0.628 0.496 0.568 0.608]\n",
      " [0.444 0.644 0.772 0.856 0.94  0.98  1.    0.996 0.972 0.928 0.844 0.648\n",
      "  0.508 0.544 0.564 0.56 ]\n",
      " [0.308 0.62  0.792 0.92  0.96  0.972 0.984 0.952 0.94  0.876 0.732 0.592\n",
      "  0.58  0.648 0.552 0.572]\n",
      " [0.236 0.696 0.828 0.896 0.924 0.932 0.928 0.928 0.888 0.772 0.708 0.624\n",
      "  0.692 0.752 0.604 0.548]\n",
      " [0.264 0.752 0.816 0.852 0.852 0.888 0.88  0.836 0.748 0.672 0.628 0.66\n",
      "  0.752 0.772 0.636 0.46 ]\n",
      " [0.344 0.704 0.764 0.812 0.824 0.812 0.784 0.732 0.716 0.648 0.764 0.836\n",
      "  0.876 0.84  0.664 0.352]\n",
      " [0.508 0.696 0.768 0.776 0.772 0.784 0.756 0.72  0.72  0.804 0.856 0.948\n",
      "  0.944 0.896 0.728 0.288]\n",
      " [0.716 0.728 0.736 0.78  0.788 0.788 0.792 0.8   0.868 0.9   0.952 0.972\n",
      "  0.972 0.9   0.712 0.232]\n",
      " [0.884 0.9   0.852 0.832 0.836 0.836 0.856 0.892 0.908 0.944 0.964 0.984\n",
      "  0.968 0.936 0.756 0.248]\n",
      " [0.944 0.94  0.928 0.924 0.924 0.928 0.928 0.932 0.96  0.96  0.956 0.944\n",
      "  0.928 0.9   0.784 0.36 ]\n",
      " [0.98  0.972 0.976 0.98  0.976 0.984 0.98  0.984 0.988 0.992 0.976 0.98\n",
      "  0.96  0.96  0.872 0.628]\n",
      " [1.    0.992 0.992 0.988 0.988 0.98  0.98  0.984 0.996 0.992 0.984 0.968\n",
      "  0.96  0.96  0.912 0.84 ]]\n"
     ]
    }
   ],
   "source": [
    "zero_prob4=1-one_prob\n",
    "print(zero_prob4)"
   ]
  },
  {
   "cell_type": "code",
   "execution_count": 105,
   "id": "3d28c187",
   "metadata": {},
   "outputs": [
    {
     "name": "stdout",
     "output_type": "stream",
     "text": [
      "Probability for Class 2: 6.145301798580652e-69\n",
      "Probability for Class 4: 0.0\n",
      "Predicted class: 2\n"
     ]
    }
   ],
   "source": [
    "\n",
    "test_predictions = []\n",
    "\n",
    "# Calculate predictions for the specific test image\n",
    "test_image = testX[9]\n",
    "\n",
    "# Calculate the probability for class 2\n",
    "prob_class_2 = np.prod(one_prob2 * test_image + zero_prob2 * (1 - test_image))\n",
    "\n",
    "# Calculate the probability for class 4\n",
    "prob_class_4 = np.prod(one_prob4 * test_image + zero_prob4 * (1 - test_image))\n",
    "\n",
    "print(\"Probability for Class 2:\", prob_class_2)\n",
    "print(\"Probability for Class 4:\", prob_class_4)\n",
    "\n",
    "# Make a prediction based on the probabilities\n",
    "if prob_class_2 > prob_class_4:\n",
    "    test_predictions.append(2)\n",
    "    print(\"Predicted class: 2\")\n",
    "else:\n",
    "    test_predictions.append(4)\n",
    "    print(\"Predicted class: 4\")\n",
    "\n",
    "\n"
   ]
  },
  {
   "cell_type": "code",
   "execution_count": 106,
   "id": "44a79bf2",
   "metadata": {},
   "outputs": [
    {
     "name": "stdout",
     "output_type": "stream",
     "text": [
      "Overall Test Accuracy for the given test image: 50.00%\n",
      "Training Accuracy for Class 2: 100.00%\n",
      "Training Accuracy for Class 4: 100.00%\n",
      "Test Accuracy for Class 2: 100.00%\n",
      "Test Accuracy for Class 4: 0.00%\n"
     ]
    }
   ],
   "source": [
    "# Calculate the overall accuracy\n",
    "overall_accuracy = np.mean(test_predictions == testY)\n",
    "\n",
    "# Calculate training accuracy for each class\n",
    "train_accuracy_2 = np.mean(trainY[:250] == 2)\n",
    "train_accuracy_4 = np.mean(trainY[250:] == 4)\n",
    "\n",
    "# Calculate test accuracy for each class\n",
    "test_accuracy_2 = np.mean(np.array(test_predictions) == 2)\n",
    "test_accuracy_4 = np.mean(np.array(test_predictions) == 4)\n",
    "\n",
    "# Print the results\n",
    "print(\"Overall Test Accuracy for the given test image: {:.2f}%\".format(overall_accuracy * 100))\n",
    "print(\"Training Accuracy for Class 2: {:.2f}%\".format(train_accuracy_2 * 100))\n",
    "print(\"Training Accuracy for Class 4: {:.2f}%\".format(train_accuracy_4 * 100))\n",
    "print(\"Test Accuracy for Class 2: {:.2f}%\".format(test_accuracy_2 * 100))\n",
    "print(\"Test Accuracy for Class 4: {:.2f}%\".format(test_accuracy_4 * 100))"
   ]
  },
  {
   "cell_type": "code",
   "execution_count": null,
   "id": "3759373e",
   "metadata": {},
   "outputs": [],
   "source": []
  }
 ],
 "metadata": {
  "kernelspec": {
   "display_name": "Python 3 (ipykernel)",
   "language": "python",
   "name": "python3"
  },
  "language_info": {
   "codemirror_mode": {
    "name": "ipython",
    "version": 3
   },
   "file_extension": ".py",
   "mimetype": "text/x-python",
   "name": "python",
   "nbconvert_exporter": "python",
   "pygments_lexer": "ipython3",
   "version": "3.11.5"
  }
 },
 "nbformat": 4,
 "nbformat_minor": 5
}
